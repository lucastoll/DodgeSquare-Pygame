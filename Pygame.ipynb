{
 "cells": [
  {
   "cell_type": "markdown",
   "metadata": {},
   "source": [
    "# Curso Pygame. "
   ]
  },
  {
   "cell_type": "markdown",
   "metadata": {},
   "source": [
    "## Imports."
   ]
  },
  {
   "cell_type": "code",
   "execution_count": 1,
   "metadata": {},
   "outputs": [
    {
     "name": "stdout",
     "output_type": "stream",
     "text": [
      "pygame 2.0.1 (SDL 2.0.14, Python 3.8.5)\n",
      "Hello from the pygame community. https://www.pygame.org/contribute.html\n"
     ]
    }
   ],
   "source": [
    "import pygame\n",
    "from pygame.locals import * #Importa todas as funções e constantes.\n",
    "from sys import exit\n",
    "from time import sleep\n",
    "from random import randint"
   ]
  },
  {
   "cell_type": "markdown",
   "metadata": {},
   "source": [
    "## Criação da janela do jogo."
   ]
  },
  {
   "cell_type": "code",
   "execution_count": 2,
   "metadata": {},
   "outputs": [
    {
     "ename": "SystemExit",
     "evalue": "",
     "output_type": "error",
     "traceback": [
      "An exception has occurred, use %tb to see the full traceback.\n",
      "\u001b[1;31mSystemExit\u001b[0m\n"
     ]
    },
    {
     "name": "stderr",
     "output_type": "stream",
     "text": [
      "D:\\Users\\lucas\\anaconda3\\lib\\site-packages\\IPython\\core\\interactiveshell.py:3426: UserWarning: To exit: use 'exit', 'quit', or Ctrl-D.\n",
      "  warn(\"To exit: use 'exit', 'quit', or Ctrl-D.\", stacklevel=1)\n"
     ]
    }
   ],
   "source": [
    "pygame.init #Iniciliza o pygame, precisa do parentêses para iniciar a fonte.\n",
    "\n",
    "pygame.font.init()\n",
    "\n",
    "largura = 1024 #Eixo X\n",
    "altura = 768 #Eixo Y\n",
    "\n",
    "xcirc = 512 #controle \n",
    "ycirc = 0\n",
    "\n",
    "xlinha = 0\n",
    "ylinha = 0\n",
    "\n",
    "xrec = 492\n",
    "yrec = 384\n",
    "\n",
    "xpontos = 492\n",
    "ypontos = 184\n",
    "\n",
    "pontos = 0 #pontuação jogo\n",
    "\n",
    "fonte = pygame.font.SysFont('arial', 40, True, True) #Inicializar fonte\n",
    "\n",
    "clock = pygame.time.Clock() #Iniciliazar FPS\n",
    "\n",
    "\n",
    "\n",
    "tela = pygame.display.set_mode((largura, altura)) #Criação da Janela do game\n",
    "pygame.display.set_caption('Jogo') #Nome da janela do jogo\n",
    " \n",
    "while True:\n",
    "    clock.tick(500) #FPS\n",
    "    mensagem = f'Pontos: {pontos}'\n",
    "    texto_formatado = fonte.render(mensagem, True, (255,255,255))\n",
    "    \n",
    "    for event in pygame.event.get(): #Loop verficação de ação, para fechar o programa quando pedido.\n",
    "        if event.type == QUIT:\n",
    "            pygame.quit()\n",
    "            exit()\n",
    "        if event.type == KEYDOWN: #Movimentação quadrado com setas\n",
    "            if event.key == K_LEFT:\n",
    "                xrec -= 100\n",
    "            if event.key == K_UP:\n",
    "                yrec -= 100\n",
    "            if event.key == K_DOWN:\n",
    "                yrec += 100\n",
    "            if event.key == K_RIGHT:\n",
    "                xrec += 100\n",
    "                \n",
    "    pygame.display.update() #Comando necessário pro jogo rodar, se não usar isso ele só roda um frame\n",
    "    tela.fill((0,0,0)) #Se não colocar isso os objetos se movem porém o rastro fica todo pintado.\n",
    "\n",
    "    #OBJETOS NA TELA\n",
    "    pygame.draw.circle(tela, (230, 0,0), (xcirc, ycirc), 10) #TELA (RGB) (X,Y) RAIO\n",
    "    \n",
    "    player = pygame.draw.rect(tela, (0,0,255), (xrec, yrec, 40, 40)) #TELA (RGB) (X, Y, LARGURA, ALTURA)\n",
    "    \n",
    "    ponto = pygame.draw.rect(tela, (250,253,15), (xpontos, ypontos, 10, 10))\n",
    "    \n",
    "    pygame.draw.line(tela, (0,255,0), [xlinha, 0], [xlinha, altura], 10)\n",
    "    \n",
    "    if ycirc >= altura: #Circulo volta ao topo da janela quando ultrapa ssa o limite baixo (altura)\n",
    "        ycirc = 0\n",
    "    ycirc+=1 #Cada vez que atualiza o loop o circulo desce um pixel\n",
    "    \n",
    "    if xlinha >= largura: #Linha volta ao começo da tela quando chega ao limite (largura)\n",
    "        xlinha = 0\n",
    "    xlinha+=1\n",
    "     \n",
    "    if player.colliderect(ponto):\n",
    "        pontos+=1\n",
    "        xpontos=randint(24, 924)\n",
    "        ypontos=randint(100, 668)\n",
    "        \n",
    "    #Movimentação quadrado com wasd pressionando\n",
    "    \n",
    "    if pygame.key.get_pressed()[K_a]:\n",
    "        xrec -= 1\n",
    "    if pygame.key.get_pressed()[K_w]:\n",
    "        yrec -= 1\n",
    "    if pygame.key.get_pressed()[K_s]:\n",
    "        yrec += 1\n",
    "    if pygame.key.get_pressed()[K_d]:\n",
    "        xrec += 1\n",
    "    \n",
    "    #Código para o quadrado não ultrapassar a tela\n",
    "    \n",
    "    if yrec <= 0: #768\n",
    "        yrec += altura\n",
    "    if xrec <= 0: #768\n",
    "        xrec += largura\n",
    "    if xrec >= largura: #1024\n",
    "        xrec = 0\n",
    "    if yrec >= altura: #768\n",
    "        yrec = 0\n",
    "    \n",
    "    #printar texto    \n",
    "    tela.blit(texto_formatado, (largura-250, 1))"
   ]
  },
  {
   "cell_type": "markdown",
   "metadata": {},
   "source": [
    "## Objetos na tela.\n",
    "\n",
    "MEIO = largura_tela/2 - largura_objeto/2\n",
    "\n",
    "https://www.pygame.org/docs/ref/key.html \n",
    "\n",
    "pygame.font.get_fonts()"
   ]
  },
  {
   "cell_type": "code",
   "execution_count": null,
   "metadata": {},
   "outputs": [],
   "source": [
    "fonte = pygame.font.SysFont('bahnschrift', 80, True True)\n",
    "\n",
    "\n",
    "mensagem = f'Pontos: {pontos}'"
   ]
  }
 ],
 "metadata": {
  "kernelspec": {
   "display_name": "Python 3",
   "language": "python",
   "name": "python3"
  },
  "language_info": {
   "codemirror_mode": {
    "name": "ipython",
    "version": 3
   },
   "file_extension": ".py",
   "mimetype": "text/x-python",
   "name": "python",
   "nbconvert_exporter": "python",
   "pygments_lexer": "ipython3",
   "version": "3.8.5"
  }
 },
 "nbformat": 4,
 "nbformat_minor": 4
}
